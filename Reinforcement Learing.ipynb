{
 "cells": [
  {
   "cell_type": "code",
   "execution_count": 3,
   "metadata": {},
   "outputs": [],
   "source": [
    "import gym # to import open ai gym!"
   ]
  },
  {
   "cell_type": "code",
   "execution_count": 16,
   "metadata": {},
   "outputs": [],
   "source": [
    "env = gym.make('FrozenLake-v1') # we are going to use frozenlake environment"
   ]
  },
  {
   "cell_type": "code",
   "execution_count": 42,
   "metadata": {},
   "outputs": [],
   "source": [
    "# For visualizing in a window for human viewing\n",
    "env = gym.make(\"FrozenLake-v1\", render_mode=\"human\")\n",
    "\n",
    "# For getting the rendered environment as an RGB array\n",
    "# env = gym.make(\"FrozenLake-v1\", render_mode=\"rgb_array\")"
   ]
  },
  {
   "cell_type": "code",
   "execution_count": 43,
   "metadata": {},
   "outputs": [
    {
     "name": "stdout",
     "output_type": "stream",
     "text": [
      "16\n",
      "4\n"
     ]
    }
   ],
   "source": [
    "STATES = env.observation_space.n\n",
    "ACTIONS = env.action_space.n\n",
    "print(STATES)\n",
    "print(ACTIONS) # get number of actions"
   ]
  },
  {
   "cell_type": "code",
   "execution_count": 44,
   "metadata": {},
   "outputs": [
    {
     "data": {
      "text/plain": [
       "(0, {'prob': 1})"
      ]
     },
     "execution_count": 44,
     "metadata": {},
     "output_type": "execute_result"
    }
   ],
   "source": [
    "env.reset() # reset environment to default state"
   ]
  },
  {
   "cell_type": "code",
   "execution_count": 45,
   "metadata": {},
   "outputs": [],
   "source": [
    "action = env.action_space.sample() # get a random action"
   ]
  },
  {
   "cell_type": "code",
   "execution_count": 59,
   "metadata": {},
   "outputs": [
    {
     "name": "stdout",
     "output_type": "stream",
     "text": [
      "(5, 0, True, False, {'prob': 1.0})\n"
     ]
    }
   ],
   "source": [
    "print(env.step(action))"
   ]
  },
  {
   "cell_type": "code",
   "execution_count": 58,
   "metadata": {},
   "outputs": [],
   "source": [
    "observations, new_state , reward, done, info = env.step(action) # take action"
   ]
  },
  {
   "cell_type": "code",
   "execution_count": 47,
   "metadata": {},
   "outputs": [],
   "source": [
    "env.render()"
   ]
  },
  {
   "cell_type": "code",
   "execution_count": 48,
   "metadata": {},
   "outputs": [],
   "source": [
    "import numpy as np"
   ]
  },
  {
   "cell_type": "code",
   "execution_count": 49,
   "metadata": {},
   "outputs": [],
   "source": [
    "Q = np.zeros((STATES, ACTIONS))"
   ]
  },
  {
   "cell_type": "code",
   "execution_count": 50,
   "metadata": {},
   "outputs": [
    {
     "data": {
      "text/plain": [
       "array([[0., 0., 0., 0.],\n",
       "       [0., 0., 0., 0.],\n",
       "       [0., 0., 0., 0.],\n",
       "       [0., 0., 0., 0.],\n",
       "       [0., 0., 0., 0.],\n",
       "       [0., 0., 0., 0.],\n",
       "       [0., 0., 0., 0.],\n",
       "       [0., 0., 0., 0.],\n",
       "       [0., 0., 0., 0.],\n",
       "       [0., 0., 0., 0.],\n",
       "       [0., 0., 0., 0.],\n",
       "       [0., 0., 0., 0.],\n",
       "       [0., 0., 0., 0.],\n",
       "       [0., 0., 0., 0.],\n",
       "       [0., 0., 0., 0.],\n",
       "       [0., 0., 0., 0.]])"
      ]
     },
     "execution_count": 50,
     "metadata": {},
     "output_type": "execute_result"
    }
   ],
   "source": [
    "Q"
   ]
  },
  {
   "cell_type": "code",
   "execution_count": 68,
   "metadata": {},
   "outputs": [],
   "source": [
    "EPISODES = 1000 # how many times to run the environment from the beginning\n",
    "MAX_STEPS = 100 # max number of steps allowed for each run of environment\n",
    "\n",
    "LEARNING_RATE = 0.81\n",
    "GAMMA  = 0.96\n",
    "RENDER = False\n",
    "epsilon = 0.9"
   ]
  },
  {
   "cell_type": "code",
   "execution_count": 69,
   "metadata": {},
   "outputs": [],
   "source": [
    "epsilon = 0.9 # start with a 90% chance of picking a random action\n",
    "\n",
    "#code to pick action\n",
    "if np.random.uniform(0, 1) < epsilon:\n",
    "    action = env.action_space.sample()\n",
    "else:\n",
    "    action = np.argmax(Q[state, :])"
   ]
  },
  {
   "cell_type": "code",
   "execution_count": 70,
   "metadata": {},
   "outputs": [],
   "source": [
    "# Q[state, action] = Q[state, action] + LEARNING_RATE * (reward + GAMMA * np.max(Q[new_state, :]) - Q[state, action])"
   ]
  },
  {
   "cell_type": "code",
   "execution_count": 74,
   "metadata": {},
   "outputs": [
    {
     "ename": "IndexError",
     "evalue": "only integers, slices (`:`), ellipsis (`...`), numpy.newaxis (`None`) and integer or boolean arrays are valid indices",
     "output_type": "error",
     "traceback": [
      "\u001b[0;31m---------------------------------------------------------------------------\u001b[0m",
      "\u001b[0;31mIndexError\u001b[0m                                Traceback (most recent call last)",
      "\u001b[1;32m/Users/macbook/Documents/codes/AI/Reinforcement Learing.ipynb Cell 16\u001b[0m line \u001b[0;36m2\n\u001b[1;32m     <a href='vscode-notebook-cell:/Users/macbook/Documents/codes/AI/Reinforcement%20Learing.ipynb#X25sZmlsZQ%3D%3D?line=18'>19</a>\u001b[0m     action \u001b[39m=\u001b[39m np\u001b[39m.\u001b[39margmax(Q[state, :])\n\u001b[1;32m     <a href='vscode-notebook-cell:/Users/macbook/Documents/codes/AI/Reinforcement%20Learing.ipynb#X25sZmlsZQ%3D%3D?line=20'>21</a>\u001b[0m new_state, reward, done, truncated, info \u001b[39m=\u001b[39m env\u001b[39m.\u001b[39mstep(action)\n\u001b[0;32m---> <a href='vscode-notebook-cell:/Users/macbook/Documents/codes/AI/Reinforcement%20Learing.ipynb#X25sZmlsZQ%3D%3D?line=23'>24</a>\u001b[0m Q[state, action] \u001b[39m=\u001b[39m Q[state, action] \u001b[39m+\u001b[39m LEARNING_RATE \u001b[39m*\u001b[39m (reward \u001b[39m+\u001b[39m GAMMA \u001b[39m*\u001b[39m np\u001b[39m.\u001b[39mmax(Q[new_state, :]) \u001b[39m-\u001b[39m Q[state, action])\n\u001b[1;32m     <a href='vscode-notebook-cell:/Users/macbook/Documents/codes/AI/Reinforcement%20Learing.ipynb#X25sZmlsZQ%3D%3D?line=25'>26</a>\u001b[0m state \u001b[39m=\u001b[39m new_state\n\u001b[1;32m     <a href='vscode-notebook-cell:/Users/macbook/Documents/codes/AI/Reinforcement%20Learing.ipynb#X25sZmlsZQ%3D%3D?line=26'>27</a>\u001b[0m episode_reward \u001b[39m+\u001b[39m\u001b[39m=\u001b[39m reward\n",
      "\u001b[0;31mIndexError\u001b[0m: only integers, slices (`:`), ellipsis (`...`), numpy.newaxis (`None`) and integer or boolean arrays are valid indices"
     ]
    }
   ],
   "source": [
    "import numpy as np\n",
    "\n",
    "# Define your environment, EPISODES, MAX_STEPS, epsilon, Q, LEARNING_RATE, GAMMA, and RENDER\n",
    "\n",
    "rewards = []\n",
    "for episode in range(EPISODES):\n",
    "\n",
    "    state = env.reset()\n",
    "    episode_reward = 0\n",
    "\n",
    "    for _ in range(MAX_STEPS):\n",
    "\n",
    "        if RENDER:\n",
    "            env.render()\n",
    "        \n",
    "        if np.random.uniform(0, 1) < epsilon:\n",
    "            action = env.action_space.sample()\n",
    "        else:\n",
    "            action = np.argmax(Q[state, :])\n",
    "        \n",
    "        new_state, reward, done, truncated, info = env.step(action)\n",
    "\n",
    "\n",
    "        Q[state, action] = Q[state, action] + LEARNING_RATE * (reward + GAMMA * np.max(Q[new_state, :]) - Q[state, action])\n",
    "        \n",
    "        state = new_state\n",
    "        episode_reward += reward\n",
    "\n",
    "        if done:\n",
    "            rewards.append(episode_reward)\n",
    "            epsilon -= 0.001\n",
    "            break  # reached goal\n",
    "\n",
    "if len(rewards) > 0:\n",
    "    print(Q)\n",
    "    print(f'average reward: {sum(rewards) / len(rewards)};')\n",
    "else:\n",
    "    print(\"No rewards obtained.\")\n"
   ]
  }
 ],
 "metadata": {
  "kernelspec": {
   "display_name": "Python 3",
   "language": "python",
   "name": "python3"
  },
  "language_info": {
   "codemirror_mode": {
    "name": "ipython",
    "version": 3
   },
   "file_extension": ".py",
   "mimetype": "text/x-python",
   "name": "python",
   "nbconvert_exporter": "python",
   "pygments_lexer": "ipython3",
   "version": "3.11.4"
  }
 },
 "nbformat": 4,
 "nbformat_minor": 2
}
