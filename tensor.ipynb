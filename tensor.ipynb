{
 "cells": [
  {
   "cell_type": "code",
   "execution_count": null,
   "id": "dddfbdab-7724-4f26-9bdc-1f88a4a08624",
   "metadata": {},
   "outputs": [],
   "source": [
    "import tensorflow as tf"
   ]
  },
  {
   "cell_type": "code",
   "execution_count": null,
   "id": "dd311bd3-f9be-4e15-a717-3df5959d63b7",
   "metadata": {},
   "outputs": [],
   "source": [
    "rank1_tensor = tf.Variable([\"test\"], tf.string)\n",
    "rank2_tensor = tf.Variable([['test'], ['test2']], tf.string)\n"
   ]
  },
  {
   "cell_type": "code",
   "execution_count": null,
   "id": "4bdc9562-94a8-4fde-b5d6-121c40b3dbaf",
   "metadata": {},
   "outputs": [],
   "source": [
    "tf.rank(rank2_tensor)"
   ]
  },
  {
   "cell_type": "code",
   "execution_count": null,
   "id": "0b6709c6-5f52-4696-93cd-60c432beef23",
   "metadata": {},
   "outputs": [],
   "source": [
    "rank2_tensor.shape"
   ]
  },
  {
   "cell_type": "code",
   "execution_count": null,
   "id": "ff39f20f-fc7c-491d-aeae-8b5e2e97cd4f",
   "metadata": {},
   "outputs": [],
   "source": [
    "tensor1 = tf.ones([1, 2, 3])"
   ]
  },
  {
   "cell_type": "code",
   "execution_count": null,
   "id": "814b36ae-88ec-4a3f-90b8-f8ed8f28843f",
   "metadata": {},
   "outputs": [],
   "source": [
    "tensor1"
   ]
  },
  {
   "cell_type": "code",
   "execution_count": null,
   "id": "8ee850fc-5950-4a31-bd7f-117cc40ae2cb",
   "metadata": {},
   "outputs": [],
   "source": [
    "tensor2 = tf.ones([2, 3, 1])"
   ]
  },
  {
   "cell_type": "code",
   "execution_count": null,
   "id": "4f79e033-5cab-4d0c-80af-e05c8f6972a3",
   "metadata": {},
   "outputs": [],
   "source": [
    "tensor2"
   ]
  },
  {
   "cell_type": "code",
   "execution_count": null,
   "id": "543789a4-edc9-401d-91df-dd16ae1826c0",
   "metadata": {},
   "outputs": [],
   "source": [
    "tensor = tf.reshape(tensor1, [2, 3, 1])"
   ]
  },
  {
   "cell_type": "code",
   "execution_count": null,
   "id": "5aeeb908-1c16-47f0-9c0d-9e3452b7894f",
   "metadata": {},
   "outputs": [],
   "source": [
    "tensor"
   ]
  },
  {
   "cell_type": "code",
   "execution_count": null,
   "id": "dbfb717b-4e34-4bc1-8030-f80e1c535135",
   "metadata": {},
   "outputs": [],
   "source": []
  },
  {
   "cell_type": "code",
   "execution_count": null,
   "id": "271198b4-3432-413a-a5a5-164a86a2144c",
   "metadata": {},
   "outputs": [],
   "source": [
    "tensor3 = tf.reshape(tensor1, [3, -1])"
   ]
  },
  {
   "cell_type": "code",
   "execution_count": null,
   "id": "0f8ecbc2-b425-4590-8ff6-6dca576aa3f1",
   "metadata": {},
   "outputs": [],
   "source": [
    "tensor3"
   ]
  },
  {
   "cell_type": "code",
   "execution_count": null,
   "id": "b78ec3b3-e59d-4045-9add-220f2340cb08",
   "metadata": {},
   "outputs": [],
   "source": [
    "with tf.Session() as sess:\n",
    "    tensor.eval()"
   ]
  },
  {
   "cell_type": "code",
   "execution_count": null,
   "id": "fe194c86-92fd-41d9-890a-58e94871c802",
   "metadata": {},
   "outputs": [],
   "source": [
    "5 * 5 * 5 * 5"
   ]
  },
  {
   "cell_type": "code",
   "execution_count": null,
   "id": "a1dc8f1f-8b02-4c91-82a0-526000b0fd93",
   "metadata": {},
   "outputs": [],
   "source": [
    "t = tf.zeros([5, 5, 5, 5])\n",
    "t = tf"
   ]
  },
  {
   "cell_type": "code",
   "execution_count": null,
   "id": "db5f938b-47b2-410d-9b04-447839e31fa2",
   "metadata": {},
   "outputs": [],
   "source": [
    "t = tf.reshape(t, [125, -1])"
   ]
  },
  {
   "cell_type": "code",
   "execution_count": null,
   "id": "77b71415-c6ec-4ac5-9e0d-dd9b89592944",
   "metadata": {},
   "outputs": [],
   "source": [
    "t"
   ]
  },
  {
   "cell_type": "code",
   "execution_count": null,
   "id": "f34fa365-abfd-4370-ab02-8ee6f6a69bef",
   "metadata": {},
   "outputs": [],
   "source": []
  }
 ],
 "metadata": {
  "kernelspec": {
   "display_name": "Python 3 (ipykernel)",
   "language": "python",
   "name": "python3"
  },
  "language_info": {
   "codemirror_mode": {
    "name": "ipython",
    "version": 3
   },
   "file_extension": ".py",
   "mimetype": "text/x-python",
   "name": "python",
   "nbconvert_exporter": "python",
   "pygments_lexer": "ipython3",
   "version": "3.11.4"
  }
 },
 "nbformat": 4,
 "nbformat_minor": 5
}
